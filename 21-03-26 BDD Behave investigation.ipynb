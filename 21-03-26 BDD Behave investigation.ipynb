{
 "cells": [
  {
   "cell_type": "markdown",
   "metadata": {},
   "source": [
    "# Investigaiton of Cucumber language in Python Behave module\n",
    "\n",
    "## Useful Links\n",
    "- [link toautmoation panda discussion of BDD](https://automationpanda.com/2018/05/11/python-testing-101-behave/)\n",
    "- [Link to Behave community page](https://behave.readthedocs.io/en/stable/)\n",
    "- [Excellent comparison of python BDD Options](https://automationpanda.com/tag/behave/)"
   ]
  },
  {
   "cell_type": "markdown",
   "metadata": {},
   "source": [
    "First, install behave.\n",
    "\n",
    "Now make a directory called “features”. In that directory create a file called “tutorial.feature” containing:\n",
    "\n",
    "`\n",
    "Feature: showing off behave\n",
    "\n",
    "  Scenario: run a simple test\n",
    "     Given we have behave installed\n",
    "      When we implement a test\n",
    "      Then behave will test it for us!`\n",
    "      \n",
    "Make a new directory called “features/steps”. In that directory create a file called “tutorial.py” containing:"
   ]
  },
  {
   "cell_type": "code",
   "execution_count": 1,
   "metadata": {},
   "outputs": [],
   "source": [
    "from behave.__main__ import main as behave_main\n",
    "#behave_main(\"path/to/specified/folder\")\n"
   ]
  },
  {
   "cell_type": "code",
   "execution_count": 2,
   "metadata": {},
   "outputs": [
    {
     "name": "stdout",
     "output_type": "stream",
     "text": [
      "Feature: Fight or flight # features/fight.feature:1\n",
      "  In order to increase the ninja survival rate,\n",
      "  As a ninja commander\n",
      "  I want my ninjas to decide whether to take on an\n",
      "  opponent based on their skill levels\n",
      "  Scenario: Weaker opponent                      # features/fight.feature:7\n",
      "    Given the ninja has a third level black-belt # features/steps/fight.py:3\n",
      "    When attacked by a samurai                   # features/steps/fight.py:7\n",
      "    Then the ninja should engage the opponent    # features/steps/fight.py:11\n",
      "\n",
      "  Scenario: Stronger opponent                    # features/fight.feature:12\n",
      "    Given the ninja has a third level black-belt # features/steps/fight.py:3\n",
      "    When attacked by Chuck Norris                # features/steps/fight.py:15\n",
      "    Then the ninja should run for his life       # features/steps/fight.py:19\n",
      "\n",
      "Feature: showing off behave # features/tutorial.feature:1\n",
      "\n",
      "  Scenario: run a simple test        # features/tutorial.feature:3\n",
      "    Given we have behave installed   # features/steps/tutorial.py:3\n",
      "    When we implement a test         # features/steps/tutorial.py:8\n",
      "    Then behave will test it for us! # features/steps/tutorial.py:12\n",
      "\n",
      "  Scenario: Check the spreadsheet Format                                   # features/tutorial.feature:8\n",
      "    Given We load a specified spreadsheet                                  # features/steps/tutorial.py:16\n",
      "      Assertion Failed: Makes no Sense\n",
      "\n",
      "    When We check the column headings                                      # None\n",
      "    Then We will report an error with enough test to ideintify the problem # None\n",
      "\n",
      "Feature: Fight or flight # features/.ipynb_checkpoints/fight-checkpoint.feature:1\n",
      "  In order to increase the ninja survival rate,\n",
      "  As a ninja commander\n",
      "  I want my ninjas to decide whether to take on an\n",
      "  opponent based on their skill levels\n",
      "  Scenario: Weaker opponent                      # features/.ipynb_checkpoints/fight-checkpoint.feature:7\n",
      "    Given the ninja has a third level black-belt # features/steps/fight.py:3\n",
      "    When attacked by a samurai                   # features/steps/fight.py:7\n",
      "    Then the ninja should engage the opponent    # features/steps/fight.py:11\n",
      "      Traceback (most recent call last):\n",
      "        File \"/Applications/anaconda3/lib/python3.7/site-packages/behave/model.py\", line 1329, in run\n",
      "          match.run(runner.context)\n",
      "        File \"/Applications/anaconda3/lib/python3.7/site-packages/behave/matchers.py\", line 98, in run\n",
      "          self.func(context, *args, **kwargs)\n",
      "        File \"features/steps/fight.py\", line 13, in step_impl\n",
      "          assert context.failed is False\n",
      "      AssertionError\n",
      "\n",
      "\n",
      "  Scenario: Stronger opponent                    # features/.ipynb_checkpoints/fight-checkpoint.feature:12\n",
      "    Given the ninja has a third level black-belt # features/steps/fight.py:3\n",
      "    When attacked by Chuck Norris                # features/steps/fight.py:15\n",
      "    Then the ninja should run for his life       # features/steps/fight.py:19\n",
      "      Traceback (most recent call last):\n",
      "        File \"/Applications/anaconda3/lib/python3.7/site-packages/behave/model.py\", line 1329, in run\n",
      "          match.run(runner.context)\n",
      "        File \"/Applications/anaconda3/lib/python3.7/site-packages/behave/matchers.py\", line 98, in run\n",
      "          self.func(context, *args, **kwargs)\n",
      "        File \"features/steps/fight.py\", line 21, in step_impl\n",
      "          assert context.failed is False\n",
      "      AssertionError\n",
      "\n",
      "\n",
      "Feature: showing off behave # features/.ipynb_checkpoints/tutorial-checkpoint.feature:1\n",
      "\n",
      "  Scenario: run a simple test        # features/.ipynb_checkpoints/tutorial-checkpoint.feature:3\n",
      "    Given we have behave installed   # features/steps/tutorial.py:3\n",
      "      Traceback (most recent call last):\n",
      "        File \"/Applications/anaconda3/lib/python3.7/site-packages/behave/model.py\", line 1329, in run\n",
      "          match.run(runner.context)\n",
      "        File \"/Applications/anaconda3/lib/python3.7/site-packages/behave/matchers.py\", line 98, in run\n",
      "          self.func(context, *args, **kwargs)\n",
      "        File \"features/steps/tutorial.py\", line 6, in step_impl\n",
      "          assert context.failed is False\n",
      "      AssertionError\n",
      "\n",
      "    When we implement a test         # None\n",
      "    Then behave will test it for us! # None\n",
      "\n",
      "  Scenario: Check the spreadsheet Format                                   # features/.ipynb_checkpoints/tutorial-checkpoint.feature:8\n",
      "    Given We load a specified spreadsheet                                  # features/steps/tutorial.py:16\n",
      "      Assertion Failed: Makes no Sense\n",
      "\n",
      "    When We check the column headings                                      # None\n",
      "    Then We will report an error with enough test to ideintify the problem # None\n",
      "\n",
      "\n",
      "Failing scenarios:\n",
      "  features/tutorial.feature:8  Check the spreadsheet Format\n",
      "  features/.ipynb_checkpoints/fight-checkpoint.feature:7  Weaker opponent\n",
      "  features/.ipynb_checkpoints/fight-checkpoint.feature:12  Stronger opponent\n",
      "  features/.ipynb_checkpoints/tutorial-checkpoint.feature:3  run a simple test\n",
      "  features/.ipynb_checkpoints/tutorial-checkpoint.feature:8  Check the spreadsheet Format\n",
      "\n",
      "1 feature passed, 3 failed, 0 skipped\n",
      "3 scenarios passed, 5 failed, 0 skipped\n",
      "13 steps passed, 5 failed, 6 skipped, 0 undefined\n",
      "Took 0m0.013s\n"
     ]
    },
    {
     "data": {
      "text/plain": [
       "1"
      ]
     },
     "execution_count": 2,
     "metadata": {},
     "output_type": "execute_result"
    }
   ],
   "source": [
    "behave_main(\"\")"
   ]
  },
  {
   "cell_type": "code",
   "execution_count": 3,
   "metadata": {},
   "outputs": [
    {
     "ename": "AssertionError",
     "evalue": "you are kidding",
     "output_type": "error",
     "traceback": [
      "\u001b[0;31m---------------------------------------------------------------------------\u001b[0m",
      "\u001b[0;31mAssertionError\u001b[0m                            Traceback (most recent call last)",
      "\u001b[0;32m<ipython-input-3-e7b4bb3e5720>\u001b[0m in \u001b[0;36m<module>\u001b[0;34m\u001b[0m\n\u001b[0;32m----> 1\u001b[0;31m \u001b[0;32massert\u001b[0m \u001b[0;36m2\u001b[0m\u001b[0;34m==\u001b[0m\u001b[0;36m1\u001b[0m\u001b[0;34m,\u001b[0m \u001b[0;34m\"you are kidding\"\u001b[0m\u001b[0;34m\u001b[0m\u001b[0;34m\u001b[0m\u001b[0m\n\u001b[0m",
      "\u001b[0;31mAssertionError\u001b[0m: you are kidding"
     ]
    }
   ],
   "source": [
    "assert 2==1, \"you are kidding\""
   ]
  },
  {
   "cell_type": "code",
   "execution_count": null,
   "metadata": {},
   "outputs": [],
   "source": []
  }
 ],
 "metadata": {
  "kernelspec": {
   "display_name": "Python 3",
   "language": "python",
   "name": "python3"
  },
  "language_info": {
   "codemirror_mode": {
    "name": "ipython",
    "version": 3
   },
   "file_extension": ".py",
   "mimetype": "text/x-python",
   "name": "python",
   "nbconvert_exporter": "python",
   "pygments_lexer": "ipython3",
   "version": "3.7.6"
  }
 },
 "nbformat": 4,
 "nbformat_minor": 4
}
